{
 "cells": [
  {
   "cell_type": "markdown",
   "metadata": {},
   "source": [
    "# Anjana Nallanagula\n",
    "# AP19110010340\n",
    "# SRM University"
   ]
  },
  {
   "cell_type": "markdown",
   "metadata": {},
   "source": [
    "# Task 1\n",
    "* Write a pattern to display 4 digit numbers from list"
   ]
  },
  {
   "cell_type": "code",
   "execution_count": 2,
   "metadata": {},
   "outputs": [
    {
     "name": "stdout",
     "output_type": "stream",
     "text": [
      "Enter the size 4\n",
      "2345\n",
      "6547\n",
      "123567\n",
      "123567\n",
      "The four digit numbers are \n",
      "2345\n",
      "6547\n"
     ]
    }
   ],
   "source": [
    "import re\n",
    "\n",
    "ls = []\n",
    "n = int(input(\"Enter the size \"))\n",
    "for i in range(n):\n",
    "    a = input()\n",
    "    ls.append(a)\n",
    "print(\"The four digit numbers are \")\n",
    "for i in ls:\n",
    "    if (re.search('^\\d{4}$', i)):\n",
    "        print(i)\n",
    "    else:\n",
    "        pass"
   ]
  },
  {
   "cell_type": "markdown",
   "metadata": {},
   "source": [
    "# Task 2\n",
    "* Write a python program to validate phone number using patterns"
   ]
  },
  {
   "cell_type": "code",
   "execution_count": 3,
   "metadata": {},
   "outputs": [
    {
     "name": "stdout",
     "output_type": "stream",
     "text": [
      "Enter the size 4\n",
      "9865647158\n",
      "8867583736\n",
      "758613\n",
      "69863757369316\n",
      "The valid phone numbers are \n",
      "9865647158\n",
      "8867583736\n"
     ]
    }
   ],
   "source": [
    "ls = []\n",
    "n = int(input(\"Enter the size \"))\n",
    "for i in range(n):\n",
    "    a = input()\n",
    "    ls.append(a)\n",
    "print(\"The valid phone numbers are \")\n",
    "for i in ls:\n",
    "    if (re.search('^[789]\\d{9}$', i)):\n",
    "        print(i)\n",
    "    else:\n",
    "        pass"
   ]
  },
  {
   "cell_type": "code",
   "execution_count": null,
   "metadata": {},
   "outputs": [],
   "source": []
  }
 ],
 "metadata": {
  "kernelspec": {
   "display_name": "Python 3",
   "language": "python",
   "name": "python3"
  },
  "language_info": {
   "codemirror_mode": {
    "name": "ipython",
    "version": 3
   },
   "file_extension": ".py",
   "mimetype": "text/x-python",
   "name": "python",
   "nbconvert_exporter": "python",
   "pygments_lexer": "ipython3",
   "version": "3.7.6"
  }
 },
 "nbformat": 4,
 "nbformat_minor": 4
}
