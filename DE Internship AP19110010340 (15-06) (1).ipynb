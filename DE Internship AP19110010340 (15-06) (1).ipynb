{
 "cells": [
  {
   "cell_type": "markdown",
   "metadata": {},
   "source": [
    "# Anjana Nallanagula\n",
    "# AP19110010340\n",
    "# SRM University"
   ]
  },
  {
   "cell_type": "markdown",
   "metadata": {},
   "source": [
    "# Task 1\n",
    "* Create a function for finding the leap years within the given range"
   ]
  },
  {
   "cell_type": "code",
   "execution_count": 1,
   "metadata": {},
   "outputs": [
    {
     "name": "stdout",
     "output_type": "stream",
     "text": [
      "Enter the start year 1900\n",
      "Enter the end year 2000\n",
      "1904\n",
      "1908\n",
      "1912\n",
      "1916\n",
      "1920\n",
      "1924\n",
      "1928\n",
      "1932\n",
      "1936\n",
      "1940\n",
      "1944\n",
      "1948\n",
      "1952\n",
      "1956\n",
      "1960\n",
      "1964\n",
      "1968\n",
      "1972\n",
      "1976\n",
      "1980\n",
      "1984\n",
      "1988\n",
      "1992\n",
      "1996\n"
     ]
    }
   ],
   "source": [
    "def leap_year(year):\n",
    "    if (year % 4 == 0):\n",
    "        if (year % 100 == 0):\n",
    "            if (year % 400 == 0):\n",
    "                return True\n",
    "            else:\n",
    "                return False\n",
    "        else:\n",
    "            return True\n",
    "    else:\n",
    "        return False\n",
    "\n",
    "start = int(input(\"Enter the start year \"))\n",
    "end = int(input(\"Enter the end year \"))\n",
    "for i in range(start, end):\n",
    "    if (leap_year(i)):\n",
    "        print(i)\n",
    "    else:\n",
    "        pass"
   ]
  },
  {
   "cell_type": "markdown",
   "metadata": {},
   "source": [
    "# Task 2\n",
    "* Create a function for getting the amstrong numbers within a given range"
   ]
  },
  {
   "cell_type": "code",
   "execution_count": 4,
   "metadata": {},
   "outputs": [
    {
     "name": "stdout",
     "output_type": "stream",
     "text": [
      "Enter the range of numbers 500\n",
      "The amstrong numbers below 500 are \n",
      "0\n",
      "1\n",
      "153\n",
      "370\n",
      "371\n",
      "407\n"
     ]
    }
   ],
   "source": [
    "def amstrong(n):\n",
    "    sum1 = 0\n",
    "    temp = n\n",
    "    while (temp > 0):\n",
    "        r = temp % 10\n",
    "        sum1 = sum1 + r**3\n",
    "        temp = temp // 10\n",
    "    if (n == sum1):\n",
    "        return True\n",
    "    else:\n",
    "        return False\n",
    "\n",
    "h = int(input(\"Enter the range of numbers \"))\n",
    "print(\"The amstrong numbers below\", h, \"are \")\n",
    "for i in range(h):\n",
    "    if (amstrong(i)):\n",
    "        print(i)\n",
    "    else:\n",
    "        pass"
   ]
  },
  {
   "cell_type": "markdown",
   "metadata": {},
   "source": [
    "# Task 3\n",
    "* Create a function for getting the prime numbers within a given range\n"
   ]
  },
  {
   "cell_type": "code",
   "execution_count": 5,
   "metadata": {},
   "outputs": [
    {
     "name": "stdout",
     "output_type": "stream",
     "text": [
      "Enter the range of numbers 50\n",
      "The prime numbers below 50 are \n",
      "2\n",
      "3\n",
      "5\n",
      "7\n",
      "11\n",
      "13\n",
      "17\n",
      "19\n",
      "23\n",
      "29\n",
      "31\n",
      "37\n",
      "41\n",
      "43\n",
      "47\n"
     ]
    }
   ],
   "source": [
    "def prime(n):\n",
    "    flag = True\n",
    "    if (n > 1):\n",
    "        for i in range(2, n):\n",
    "            if (n % i == 0):\n",
    "                flag = False\n",
    "                break\n",
    "        if (flag):\n",
    "            return True\n",
    "        else:\n",
    "            return False\n",
    "    else:\n",
    "        return False\n",
    "    \n",
    "h = int(input(\"Enter the range of numbers \"))\n",
    "print(\"The prime numbers below\", h, \"are \")\n",
    "for i in range(h):\n",
    "    if (prime(i)):\n",
    "        print(i)\n",
    "    else:\n",
    "        pass"
   ]
  },
  {
   "cell_type": "markdown",
   "metadata": {},
   "source": [
    "# Task 4\n",
    "* Create a function for finding the count of elements in a string"
   ]
  },
  {
   "cell_type": "code",
   "execution_count": 10,
   "metadata": {},
   "outputs": [
    {
     "name": "stdout",
     "output_type": "stream",
     "text": [
      "Enter a string srm university\n",
      "s 2\n",
      "r 2\n",
      "m 1\n",
      "  1\n",
      "u 1\n",
      "n 1\n",
      "i 2\n",
      "v 1\n",
      "e 1\n",
      "t 1\n",
      "y 1\n"
     ]
    }
   ],
   "source": [
    "def element_count(s):\n",
    "    ls1 = []\n",
    "    ls2 = []\n",
    "    for i in s:\n",
    "        if (i in ls1):\n",
    "            pass\n",
    "        else:\n",
    "            ls2.append((i, s.count(i)))\n",
    "            ls1.append(i)\n",
    "    return ls2\n",
    "\n",
    "s = input(\"Enter a string \")\n",
    "result = element_count(s)\n",
    "for a, b in result:\n",
    "    print(a, b)"
   ]
  },
  {
   "cell_type": "code",
   "execution_count": null,
   "metadata": {},
   "outputs": [],
   "source": []
  }
 ],
 "metadata": {
  "kernelspec": {
   "display_name": "Python 3",
   "language": "python",
   "name": "python3"
  },
  "language_info": {
   "codemirror_mode": {
    "name": "ipython",
    "version": 3
   },
   "file_extension": ".py",
   "mimetype": "text/x-python",
   "name": "python",
   "nbconvert_exporter": "python",
   "pygments_lexer": "ipython3",
   "version": "3.7.6"
  }
 },
 "nbformat": 4,
 "nbformat_minor": 4
}
