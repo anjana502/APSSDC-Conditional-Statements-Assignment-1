{
 "cells": [
  {
   "cell_type": "markdown",
   "metadata": {},
   "source": [
    "# Anjana Nallanagula\n",
    "# AP19110010340\n",
    "# SRM University"
   ]
  },
  {
   "cell_type": "markdown",
   "metadata": {},
   "source": [
    "# Ex1 - Getting and knowing your Data"
   ]
  },
  {
   "cell_type": "markdown",
   "metadata": {},
   "source": [
    "### Step 1. Go to [Dataset_link](https://www.kaggle.com/zhangjuefei/birds-bones-and-living-habits)"
   ]
  },
  {
   "cell_type": "markdown",
   "metadata": {},
   "source": [
    "* There are many kinds of birds: pigeons, ducks, ostriches, penguins… Some are good at flying, others can't fly but run fast. Some swim under water, others wading in shallow pool.\n",
    "\n",
    "* *According to their living environments and living habits, birds are classified into different ecological groups. There are 6 ecological groups of birds:*\n",
    "\n",
    "\n",
    "- Swimming Birds\n",
    "- Wading Birds\n",
    "- Terrestrial Birds\n",
    "- Raptors\n",
    "- Scansorial Birds\n",
    "- Singing Birds"
   ]
  },
  {
   "cell_type": "markdown",
   "metadata": {},
   "source": [
    "###  Step 2. Download the dataset to your computer and unzip it. "
   ]
  },
  {
   "cell_type": "markdown",
   "metadata": {},
   "source": [
    "### Step 3. Use the Csv file and assign it to a dataframe called birds"
   ]
  },
  {
   "cell_type": "code",
   "execution_count": 2,
   "metadata": {},
   "outputs": [
    {
     "data": {
      "text/html": [
       "<div>\n",
       "<style scoped>\n",
       "    .dataframe tbody tr th:only-of-type {\n",
       "        vertical-align: middle;\n",
       "    }\n",
       "\n",
       "    .dataframe tbody tr th {\n",
       "        vertical-align: top;\n",
       "    }\n",
       "\n",
       "    .dataframe thead th {\n",
       "        text-align: right;\n",
       "    }\n",
       "</style>\n",
       "<table border=\"1\" class=\"dataframe\">\n",
       "  <thead>\n",
       "    <tr style=\"text-align: right;\">\n",
       "      <th></th>\n",
       "      <th>Unnamed: 0</th>\n",
       "      <th>huml</th>\n",
       "      <th>humw</th>\n",
       "      <th>ulnal</th>\n",
       "      <th>ulnaw</th>\n",
       "      <th>feml</th>\n",
       "      <th>femw</th>\n",
       "      <th>tibl</th>\n",
       "      <th>tibw</th>\n",
       "      <th>tarl</th>\n",
       "      <th>tarw</th>\n",
       "      <th>len_type</th>\n",
       "      <th>Mean_Features</th>\n",
       "      <th>huml_and_humw</th>\n",
       "    </tr>\n",
       "  </thead>\n",
       "  <tbody>\n",
       "    <tr>\n",
       "      <th>0</th>\n",
       "      <td>count</td>\n",
       "      <td>419.000000</td>\n",
       "      <td>419.000000</td>\n",
       "      <td>417.000000</td>\n",
       "      <td>418.000000</td>\n",
       "      <td>418.000000</td>\n",
       "      <td>419.000000</td>\n",
       "      <td>418.000000</td>\n",
       "      <td>419.000000</td>\n",
       "      <td>419.000000</td>\n",
       "      <td>419.000000</td>\n",
       "      <td>420.000000</td>\n",
       "      <td>420.000000</td>\n",
       "      <td>419.000000</td>\n",
       "    </tr>\n",
       "    <tr>\n",
       "      <th>1</th>\n",
       "      <td>mean</td>\n",
       "      <td>64.650501</td>\n",
       "      <td>4.370573</td>\n",
       "      <td>69.115372</td>\n",
       "      <td>3.597249</td>\n",
       "      <td>36.872416</td>\n",
       "      <td>3.220883</td>\n",
       "      <td>64.662823</td>\n",
       "      <td>3.182339</td>\n",
       "      <td>39.229976</td>\n",
       "      <td>2.930024</td>\n",
       "      <td>1.580952</td>\n",
       "      <td>29.147160</td>\n",
       "      <td>69.021074</td>\n",
       "    </tr>\n",
       "    <tr>\n",
       "      <th>2</th>\n",
       "      <td>std</td>\n",
       "      <td>53.834549</td>\n",
       "      <td>2.854617</td>\n",
       "      <td>58.784775</td>\n",
       "      <td>2.186747</td>\n",
       "      <td>19.979082</td>\n",
       "      <td>2.023581</td>\n",
       "      <td>37.838145</td>\n",
       "      <td>2.080827</td>\n",
       "      <td>23.184313</td>\n",
       "      <td>2.185673</td>\n",
       "      <td>0.493992</td>\n",
       "      <td>18.996025</td>\n",
       "      <td>56.462551</td>\n",
       "    </tr>\n",
       "    <tr>\n",
       "      <th>3</th>\n",
       "      <td>min</td>\n",
       "      <td>9.850000</td>\n",
       "      <td>1.140000</td>\n",
       "      <td>14.090000</td>\n",
       "      <td>1.000000</td>\n",
       "      <td>11.830000</td>\n",
       "      <td>0.930000</td>\n",
       "      <td>5.500000</td>\n",
       "      <td>0.870000</td>\n",
       "      <td>7.770000</td>\n",
       "      <td>0.660000</td>\n",
       "      <td>1.000000</td>\n",
       "      <td>7.782000</td>\n",
       "      <td>12.730000</td>\n",
       "    </tr>\n",
       "    <tr>\n",
       "      <th>4</th>\n",
       "      <td>25%</td>\n",
       "      <td>25.170000</td>\n",
       "      <td>2.190000</td>\n",
       "      <td>28.050000</td>\n",
       "      <td>1.870000</td>\n",
       "      <td>21.297500</td>\n",
       "      <td>1.715000</td>\n",
       "      <td>36.417500</td>\n",
       "      <td>1.565000</td>\n",
       "      <td>23.035000</td>\n",
       "      <td>1.425000</td>\n",
       "      <td>1.000000</td>\n",
       "      <td>14.528500</td>\n",
       "      <td>27.200000</td>\n",
       "    </tr>\n",
       "    <tr>\n",
       "      <th>5</th>\n",
       "      <td>50%</td>\n",
       "      <td>44.180000</td>\n",
       "      <td>3.500000</td>\n",
       "      <td>43.710000</td>\n",
       "      <td>2.945000</td>\n",
       "      <td>31.130000</td>\n",
       "      <td>2.520000</td>\n",
       "      <td>52.120000</td>\n",
       "      <td>2.490000</td>\n",
       "      <td>31.740000</td>\n",
       "      <td>2.230000</td>\n",
       "      <td>2.000000</td>\n",
       "      <td>22.382500</td>\n",
       "      <td>48.060000</td>\n",
       "    </tr>\n",
       "    <tr>\n",
       "      <th>6</th>\n",
       "      <td>75%</td>\n",
       "      <td>90.310000</td>\n",
       "      <td>5.810000</td>\n",
       "      <td>97.520000</td>\n",
       "      <td>4.770000</td>\n",
       "      <td>47.120000</td>\n",
       "      <td>4.135000</td>\n",
       "      <td>82.870000</td>\n",
       "      <td>4.255000</td>\n",
       "      <td>50.250000</td>\n",
       "      <td>3.500000</td>\n",
       "      <td>2.000000</td>\n",
       "      <td>39.082250</td>\n",
       "      <td>96.190000</td>\n",
       "    </tr>\n",
       "    <tr>\n",
       "      <th>7</th>\n",
       "      <td>max</td>\n",
       "      <td>420.000000</td>\n",
       "      <td>17.840000</td>\n",
       "      <td>422.000000</td>\n",
       "      <td>12.000000</td>\n",
       "      <td>117.070000</td>\n",
       "      <td>11.640000</td>\n",
       "      <td>240.000000</td>\n",
       "      <td>11.030000</td>\n",
       "      <td>175.000000</td>\n",
       "      <td>14.090000</td>\n",
       "      <td>2.000000</td>\n",
       "      <td>137.740000</td>\n",
       "      <td>437.840000</td>\n",
       "    </tr>\n",
       "  </tbody>\n",
       "</table>\n",
       "</div>"
      ],
      "text/plain": [
       "  Unnamed: 0        huml        humw       ulnal       ulnaw        feml  \\\n",
       "0      count  419.000000  419.000000  417.000000  418.000000  418.000000   \n",
       "1       mean   64.650501    4.370573   69.115372    3.597249   36.872416   \n",
       "2        std   53.834549    2.854617   58.784775    2.186747   19.979082   \n",
       "3        min    9.850000    1.140000   14.090000    1.000000   11.830000   \n",
       "4        25%   25.170000    2.190000   28.050000    1.870000   21.297500   \n",
       "5        50%   44.180000    3.500000   43.710000    2.945000   31.130000   \n",
       "6        75%   90.310000    5.810000   97.520000    4.770000   47.120000   \n",
       "7        max  420.000000   17.840000  422.000000   12.000000  117.070000   \n",
       "\n",
       "         femw        tibl        tibw        tarl        tarw    len_type  \\\n",
       "0  419.000000  418.000000  419.000000  419.000000  419.000000  420.000000   \n",
       "1    3.220883   64.662823    3.182339   39.229976    2.930024    1.580952   \n",
       "2    2.023581   37.838145    2.080827   23.184313    2.185673    0.493992   \n",
       "3    0.930000    5.500000    0.870000    7.770000    0.660000    1.000000   \n",
       "4    1.715000   36.417500    1.565000   23.035000    1.425000    1.000000   \n",
       "5    2.520000   52.120000    2.490000   31.740000    2.230000    2.000000   \n",
       "6    4.135000   82.870000    4.255000   50.250000    3.500000    2.000000   \n",
       "7   11.640000  240.000000   11.030000  175.000000   14.090000    2.000000   \n",
       "\n",
       "   Mean_Features  huml_and_humw  \n",
       "0     420.000000     419.000000  \n",
       "1      29.147160      69.021074  \n",
       "2      18.996025      56.462551  \n",
       "3       7.782000      12.730000  \n",
       "4      14.528500      27.200000  \n",
       "5      22.382500      48.060000  \n",
       "6      39.082250      96.190000  \n",
       "7     137.740000     437.840000  "
      ]
     },
     "execution_count": 2,
     "metadata": {},
     "output_type": "execute_result"
    }
   ],
   "source": [
    "import pandas as pd\n",
    "\n",
    "birds = pd.read_csv(\"birds.csv\")\n",
    "birds"
   ]
  },
  {
   "cell_type": "markdown",
   "metadata": {},
   "source": [
    "### Step 4. See the random 5 entries"
   ]
  },
  {
   "cell_type": "code",
   "execution_count": 3,
   "metadata": {},
   "outputs": [
    {
     "data": {
      "text/html": [
       "<div>\n",
       "<style scoped>\n",
       "    .dataframe tbody tr th:only-of-type {\n",
       "        vertical-align: middle;\n",
       "    }\n",
       "\n",
       "    .dataframe tbody tr th {\n",
       "        vertical-align: top;\n",
       "    }\n",
       "\n",
       "    .dataframe thead th {\n",
       "        text-align: right;\n",
       "    }\n",
       "</style>\n",
       "<table border=\"1\" class=\"dataframe\">\n",
       "  <thead>\n",
       "    <tr style=\"text-align: right;\">\n",
       "      <th></th>\n",
       "      <th>Unnamed: 0</th>\n",
       "      <th>huml</th>\n",
       "      <th>humw</th>\n",
       "      <th>ulnal</th>\n",
       "      <th>ulnaw</th>\n",
       "      <th>feml</th>\n",
       "      <th>femw</th>\n",
       "      <th>tibl</th>\n",
       "      <th>tibw</th>\n",
       "      <th>tarl</th>\n",
       "      <th>tarw</th>\n",
       "      <th>len_type</th>\n",
       "      <th>Mean_Features</th>\n",
       "      <th>huml_and_humw</th>\n",
       "    </tr>\n",
       "  </thead>\n",
       "  <tbody>\n",
       "    <tr>\n",
       "      <th>1</th>\n",
       "      <td>mean</td>\n",
       "      <td>64.650501</td>\n",
       "      <td>4.370573</td>\n",
       "      <td>69.115372</td>\n",
       "      <td>3.597249</td>\n",
       "      <td>36.872416</td>\n",
       "      <td>3.220883</td>\n",
       "      <td>64.662823</td>\n",
       "      <td>3.182339</td>\n",
       "      <td>39.229976</td>\n",
       "      <td>2.930024</td>\n",
       "      <td>1.580952</td>\n",
       "      <td>29.14716</td>\n",
       "      <td>69.021074</td>\n",
       "    </tr>\n",
       "    <tr>\n",
       "      <th>5</th>\n",
       "      <td>50%</td>\n",
       "      <td>44.180000</td>\n",
       "      <td>3.500000</td>\n",
       "      <td>43.710000</td>\n",
       "      <td>2.945000</td>\n",
       "      <td>31.130000</td>\n",
       "      <td>2.520000</td>\n",
       "      <td>52.120000</td>\n",
       "      <td>2.490000</td>\n",
       "      <td>31.740000</td>\n",
       "      <td>2.230000</td>\n",
       "      <td>2.000000</td>\n",
       "      <td>22.38250</td>\n",
       "      <td>48.060000</td>\n",
       "    </tr>\n",
       "    <tr>\n",
       "      <th>6</th>\n",
       "      <td>75%</td>\n",
       "      <td>90.310000</td>\n",
       "      <td>5.810000</td>\n",
       "      <td>97.520000</td>\n",
       "      <td>4.770000</td>\n",
       "      <td>47.120000</td>\n",
       "      <td>4.135000</td>\n",
       "      <td>82.870000</td>\n",
       "      <td>4.255000</td>\n",
       "      <td>50.250000</td>\n",
       "      <td>3.500000</td>\n",
       "      <td>2.000000</td>\n",
       "      <td>39.08225</td>\n",
       "      <td>96.190000</td>\n",
       "    </tr>\n",
       "    <tr>\n",
       "      <th>4</th>\n",
       "      <td>25%</td>\n",
       "      <td>25.170000</td>\n",
       "      <td>2.190000</td>\n",
       "      <td>28.050000</td>\n",
       "      <td>1.870000</td>\n",
       "      <td>21.297500</td>\n",
       "      <td>1.715000</td>\n",
       "      <td>36.417500</td>\n",
       "      <td>1.565000</td>\n",
       "      <td>23.035000</td>\n",
       "      <td>1.425000</td>\n",
       "      <td>1.000000</td>\n",
       "      <td>14.52850</td>\n",
       "      <td>27.200000</td>\n",
       "    </tr>\n",
       "    <tr>\n",
       "      <th>0</th>\n",
       "      <td>count</td>\n",
       "      <td>419.000000</td>\n",
       "      <td>419.000000</td>\n",
       "      <td>417.000000</td>\n",
       "      <td>418.000000</td>\n",
       "      <td>418.000000</td>\n",
       "      <td>419.000000</td>\n",
       "      <td>418.000000</td>\n",
       "      <td>419.000000</td>\n",
       "      <td>419.000000</td>\n",
       "      <td>419.000000</td>\n",
       "      <td>420.000000</td>\n",
       "      <td>420.00000</td>\n",
       "      <td>419.000000</td>\n",
       "    </tr>\n",
       "  </tbody>\n",
       "</table>\n",
       "</div>"
      ],
      "text/plain": [
       "  Unnamed: 0        huml        humw       ulnal       ulnaw        feml  \\\n",
       "1       mean   64.650501    4.370573   69.115372    3.597249   36.872416   \n",
       "5        50%   44.180000    3.500000   43.710000    2.945000   31.130000   \n",
       "6        75%   90.310000    5.810000   97.520000    4.770000   47.120000   \n",
       "4        25%   25.170000    2.190000   28.050000    1.870000   21.297500   \n",
       "0      count  419.000000  419.000000  417.000000  418.000000  418.000000   \n",
       "\n",
       "         femw        tibl        tibw        tarl        tarw    len_type  \\\n",
       "1    3.220883   64.662823    3.182339   39.229976    2.930024    1.580952   \n",
       "5    2.520000   52.120000    2.490000   31.740000    2.230000    2.000000   \n",
       "6    4.135000   82.870000    4.255000   50.250000    3.500000    2.000000   \n",
       "4    1.715000   36.417500    1.565000   23.035000    1.425000    1.000000   \n",
       "0  419.000000  418.000000  419.000000  419.000000  419.000000  420.000000   \n",
       "\n",
       "   Mean_Features  huml_and_humw  \n",
       "1       29.14716      69.021074  \n",
       "5       22.38250      48.060000  \n",
       "6       39.08225      96.190000  \n",
       "4       14.52850      27.200000  \n",
       "0      420.00000     419.000000  "
      ]
     },
     "execution_count": 3,
     "metadata": {},
     "output_type": "execute_result"
    }
   ],
   "source": [
    "birds.sample(5)"
   ]
  },
  {
   "cell_type": "markdown",
   "metadata": {},
   "source": [
    "### Step 5. What is the number of observations in the dataset?"
   ]
  },
  {
   "cell_type": "code",
   "execution_count": 4,
   "metadata": {},
   "outputs": [
    {
     "name": "stdout",
     "output_type": "stream",
     "text": [
      "8\n"
     ]
    }
   ],
   "source": [
    "print(birds.shape[0])"
   ]
  },
  {
   "cell_type": "markdown",
   "metadata": {},
   "source": [
    "### Step 6. What is the number of columns in the dataset? "
   ]
  },
  {
   "cell_type": "code",
   "execution_count": 5,
   "metadata": {},
   "outputs": [
    {
     "name": "stdout",
     "output_type": "stream",
     "text": [
      "14\n"
     ]
    }
   ],
   "source": [
    "print(len(birds.columns))"
   ]
  },
  {
   "cell_type": "markdown",
   "metadata": {},
   "source": [
    "### Step 7. Print the name of all the columns."
   ]
  },
  {
   "cell_type": "code",
   "execution_count": 6,
   "metadata": {},
   "outputs": [
    {
     "name": "stdout",
     "output_type": "stream",
     "text": [
      "Unnamed: 0\n",
      "huml\n",
      "humw\n",
      "ulnal\n",
      "ulnaw\n",
      "feml\n",
      "femw\n",
      "tibl\n",
      "tibw\n",
      "tarl\n",
      "tarw\n",
      "len_type\n",
      "Mean_Features\n",
      "huml_and_humw\n"
     ]
    }
   ],
   "source": [
    "for i in birds.columns:\n",
    "    print(i)"
   ]
  },
  {
   "cell_type": "markdown",
   "metadata": {},
   "source": [
    "### Step 8. What is the name of 10th column?"
   ]
  },
  {
   "cell_type": "code",
   "execution_count": 7,
   "metadata": {},
   "outputs": [
    {
     "name": "stdout",
     "output_type": "stream",
     "text": [
      "tarl\n"
     ]
    }
   ],
   "source": [
    "print(birds.columns[9])"
   ]
  },
  {
   "cell_type": "markdown",
   "metadata": {},
   "source": [
    "### Step 9. What is the type of the observations of the 2th column?"
   ]
  },
  {
   "cell_type": "code",
   "execution_count": 8,
   "metadata": {},
   "outputs": [
    {
     "name": "stdout",
     "output_type": "stream",
     "text": [
      "<class 'pandas.core.series.Series'>\n"
     ]
    }
   ],
   "source": [
    "print(type(birds[birds.columns[1]]))"
   ]
  },
  {
   "cell_type": "markdown",
   "metadata": {},
   "source": [
    "### Step 10. How is the dataset indexed?"
   ]
  },
  {
   "cell_type": "code",
   "execution_count": 9,
   "metadata": {},
   "outputs": [
    {
     "name": "stdout",
     "output_type": "stream",
     "text": [
      "RangeIndex(start=0, stop=8, step=1)\n"
     ]
    }
   ],
   "source": [
    "print(birds.index)"
   ]
  },
  {
   "cell_type": "markdown",
   "metadata": {},
   "source": [
    "### Step 11. Set the 'type' colum as the index of the dataframe¶"
   ]
  },
  {
   "cell_type": "code",
   "execution_count": 10,
   "metadata": {},
   "outputs": [
    {
     "data": {
      "text/html": [
       "<div>\n",
       "<style scoped>\n",
       "    .dataframe tbody tr th:only-of-type {\n",
       "        vertical-align: middle;\n",
       "    }\n",
       "\n",
       "    .dataframe tbody tr th {\n",
       "        vertical-align: top;\n",
       "    }\n",
       "\n",
       "    .dataframe thead th {\n",
       "        text-align: right;\n",
       "    }\n",
       "</style>\n",
       "<table border=\"1\" class=\"dataframe\">\n",
       "  <thead>\n",
       "    <tr style=\"text-align: right;\">\n",
       "      <th></th>\n",
       "      <th>Unnamed: 0</th>\n",
       "      <th>huml</th>\n",
       "      <th>humw</th>\n",
       "      <th>ulnal</th>\n",
       "      <th>ulnaw</th>\n",
       "      <th>feml</th>\n",
       "      <th>femw</th>\n",
       "      <th>tibl</th>\n",
       "      <th>tibw</th>\n",
       "      <th>tarl</th>\n",
       "      <th>tarw</th>\n",
       "      <th>Mean_Features</th>\n",
       "      <th>huml_and_humw</th>\n",
       "    </tr>\n",
       "    <tr>\n",
       "      <th>len_type</th>\n",
       "      <th></th>\n",
       "      <th></th>\n",
       "      <th></th>\n",
       "      <th></th>\n",
       "      <th></th>\n",
       "      <th></th>\n",
       "      <th></th>\n",
       "      <th></th>\n",
       "      <th></th>\n",
       "      <th></th>\n",
       "      <th></th>\n",
       "      <th></th>\n",
       "      <th></th>\n",
       "    </tr>\n",
       "  </thead>\n",
       "  <tbody>\n",
       "    <tr>\n",
       "      <th>420.000000</th>\n",
       "      <td>count</td>\n",
       "      <td>419.000000</td>\n",
       "      <td>419.000000</td>\n",
       "      <td>417.000000</td>\n",
       "      <td>418.000000</td>\n",
       "      <td>418.000000</td>\n",
       "      <td>419.000000</td>\n",
       "      <td>418.000000</td>\n",
       "      <td>419.000000</td>\n",
       "      <td>419.000000</td>\n",
       "      <td>419.000000</td>\n",
       "      <td>420.000000</td>\n",
       "      <td>419.000000</td>\n",
       "    </tr>\n",
       "    <tr>\n",
       "      <th>1.580952</th>\n",
       "      <td>mean</td>\n",
       "      <td>64.650501</td>\n",
       "      <td>4.370573</td>\n",
       "      <td>69.115372</td>\n",
       "      <td>3.597249</td>\n",
       "      <td>36.872416</td>\n",
       "      <td>3.220883</td>\n",
       "      <td>64.662823</td>\n",
       "      <td>3.182339</td>\n",
       "      <td>39.229976</td>\n",
       "      <td>2.930024</td>\n",
       "      <td>29.147160</td>\n",
       "      <td>69.021074</td>\n",
       "    </tr>\n",
       "    <tr>\n",
       "      <th>0.493992</th>\n",
       "      <td>std</td>\n",
       "      <td>53.834549</td>\n",
       "      <td>2.854617</td>\n",
       "      <td>58.784775</td>\n",
       "      <td>2.186747</td>\n",
       "      <td>19.979082</td>\n",
       "      <td>2.023581</td>\n",
       "      <td>37.838145</td>\n",
       "      <td>2.080827</td>\n",
       "      <td>23.184313</td>\n",
       "      <td>2.185673</td>\n",
       "      <td>18.996025</td>\n",
       "      <td>56.462551</td>\n",
       "    </tr>\n",
       "    <tr>\n",
       "      <th>1.000000</th>\n",
       "      <td>min</td>\n",
       "      <td>9.850000</td>\n",
       "      <td>1.140000</td>\n",
       "      <td>14.090000</td>\n",
       "      <td>1.000000</td>\n",
       "      <td>11.830000</td>\n",
       "      <td>0.930000</td>\n",
       "      <td>5.500000</td>\n",
       "      <td>0.870000</td>\n",
       "      <td>7.770000</td>\n",
       "      <td>0.660000</td>\n",
       "      <td>7.782000</td>\n",
       "      <td>12.730000</td>\n",
       "    </tr>\n",
       "    <tr>\n",
       "      <th>1.000000</th>\n",
       "      <td>25%</td>\n",
       "      <td>25.170000</td>\n",
       "      <td>2.190000</td>\n",
       "      <td>28.050000</td>\n",
       "      <td>1.870000</td>\n",
       "      <td>21.297500</td>\n",
       "      <td>1.715000</td>\n",
       "      <td>36.417500</td>\n",
       "      <td>1.565000</td>\n",
       "      <td>23.035000</td>\n",
       "      <td>1.425000</td>\n",
       "      <td>14.528500</td>\n",
       "      <td>27.200000</td>\n",
       "    </tr>\n",
       "    <tr>\n",
       "      <th>2.000000</th>\n",
       "      <td>50%</td>\n",
       "      <td>44.180000</td>\n",
       "      <td>3.500000</td>\n",
       "      <td>43.710000</td>\n",
       "      <td>2.945000</td>\n",
       "      <td>31.130000</td>\n",
       "      <td>2.520000</td>\n",
       "      <td>52.120000</td>\n",
       "      <td>2.490000</td>\n",
       "      <td>31.740000</td>\n",
       "      <td>2.230000</td>\n",
       "      <td>22.382500</td>\n",
       "      <td>48.060000</td>\n",
       "    </tr>\n",
       "    <tr>\n",
       "      <th>2.000000</th>\n",
       "      <td>75%</td>\n",
       "      <td>90.310000</td>\n",
       "      <td>5.810000</td>\n",
       "      <td>97.520000</td>\n",
       "      <td>4.770000</td>\n",
       "      <td>47.120000</td>\n",
       "      <td>4.135000</td>\n",
       "      <td>82.870000</td>\n",
       "      <td>4.255000</td>\n",
       "      <td>50.250000</td>\n",
       "      <td>3.500000</td>\n",
       "      <td>39.082250</td>\n",
       "      <td>96.190000</td>\n",
       "    </tr>\n",
       "    <tr>\n",
       "      <th>2.000000</th>\n",
       "      <td>max</td>\n",
       "      <td>420.000000</td>\n",
       "      <td>17.840000</td>\n",
       "      <td>422.000000</td>\n",
       "      <td>12.000000</td>\n",
       "      <td>117.070000</td>\n",
       "      <td>11.640000</td>\n",
       "      <td>240.000000</td>\n",
       "      <td>11.030000</td>\n",
       "      <td>175.000000</td>\n",
       "      <td>14.090000</td>\n",
       "      <td>137.740000</td>\n",
       "      <td>437.840000</td>\n",
       "    </tr>\n",
       "  </tbody>\n",
       "</table>\n",
       "</div>"
      ],
      "text/plain": [
       "           Unnamed: 0        huml        humw       ulnal       ulnaw  \\\n",
       "len_type                                                                \n",
       "420.000000      count  419.000000  419.000000  417.000000  418.000000   \n",
       "1.580952         mean   64.650501    4.370573   69.115372    3.597249   \n",
       "0.493992          std   53.834549    2.854617   58.784775    2.186747   \n",
       "1.000000          min    9.850000    1.140000   14.090000    1.000000   \n",
       "1.000000          25%   25.170000    2.190000   28.050000    1.870000   \n",
       "2.000000          50%   44.180000    3.500000   43.710000    2.945000   \n",
       "2.000000          75%   90.310000    5.810000   97.520000    4.770000   \n",
       "2.000000          max  420.000000   17.840000  422.000000   12.000000   \n",
       "\n",
       "                  feml        femw        tibl        tibw        tarl  \\\n",
       "len_type                                                                 \n",
       "420.000000  418.000000  419.000000  418.000000  419.000000  419.000000   \n",
       "1.580952     36.872416    3.220883   64.662823    3.182339   39.229976   \n",
       "0.493992     19.979082    2.023581   37.838145    2.080827   23.184313   \n",
       "1.000000     11.830000    0.930000    5.500000    0.870000    7.770000   \n",
       "1.000000     21.297500    1.715000   36.417500    1.565000   23.035000   \n",
       "2.000000     31.130000    2.520000   52.120000    2.490000   31.740000   \n",
       "2.000000     47.120000    4.135000   82.870000    4.255000   50.250000   \n",
       "2.000000    117.070000   11.640000  240.000000   11.030000  175.000000   \n",
       "\n",
       "                  tarw  Mean_Features  huml_and_humw  \n",
       "len_type                                              \n",
       "420.000000  419.000000     420.000000     419.000000  \n",
       "1.580952      2.930024      29.147160      69.021074  \n",
       "0.493992      2.185673      18.996025      56.462551  \n",
       "1.000000      0.660000       7.782000      12.730000  \n",
       "1.000000      1.425000      14.528500      27.200000  \n",
       "2.000000      2.230000      22.382500      48.060000  \n",
       "2.000000      3.500000      39.082250      96.190000  \n",
       "2.000000     14.090000     137.740000     437.840000  "
      ]
     },
     "execution_count": 10,
     "metadata": {},
     "output_type": "execute_result"
    }
   ],
   "source": [
    "birds.set_index(\"len_type\")"
   ]
  },
  {
   "cell_type": "markdown",
   "metadata": {},
   "source": [
    "### Step 12. Print only the column huml"
   ]
  },
  {
   "cell_type": "code",
   "execution_count": 11,
   "metadata": {},
   "outputs": [
    {
     "data": {
      "text/plain": [
       "0    419.000000\n",
       "1     64.650501\n",
       "2     53.834549\n",
       "3      9.850000\n",
       "4     25.170000\n",
       "5     44.180000\n",
       "6     90.310000\n",
       "7    420.000000\n",
       "Name: huml, dtype: float64"
      ]
     },
     "execution_count": 11,
     "metadata": {},
     "output_type": "execute_result"
    }
   ],
   "source": [
    "birds[\"huml\"]"
   ]
  },
  {
   "cell_type": "markdown",
   "metadata": {},
   "source": [
    "### Step 13. Print the \"huml\",\"humw\" columns from SW and P"
   ]
  },
  {
   "cell_type": "code",
   "execution_count": 12,
   "metadata": {},
   "outputs": [
    {
     "data": {
      "text/html": [
       "<div>\n",
       "<style scoped>\n",
       "    .dataframe tbody tr th:only-of-type {\n",
       "        vertical-align: middle;\n",
       "    }\n",
       "\n",
       "    .dataframe tbody tr th {\n",
       "        vertical-align: top;\n",
       "    }\n",
       "\n",
       "    .dataframe thead th {\n",
       "        text-align: right;\n",
       "    }\n",
       "</style>\n",
       "<table border=\"1\" class=\"dataframe\">\n",
       "  <thead>\n",
       "    <tr style=\"text-align: right;\">\n",
       "      <th></th>\n",
       "      <th>huml</th>\n",
       "      <th>humw</th>\n",
       "    </tr>\n",
       "  </thead>\n",
       "  <tbody>\n",
       "    <tr>\n",
       "      <th>0</th>\n",
       "      <td>419.000000</td>\n",
       "      <td>419.000000</td>\n",
       "    </tr>\n",
       "    <tr>\n",
       "      <th>1</th>\n",
       "      <td>64.650501</td>\n",
       "      <td>4.370573</td>\n",
       "    </tr>\n",
       "    <tr>\n",
       "      <th>2</th>\n",
       "      <td>53.834549</td>\n",
       "      <td>2.854617</td>\n",
       "    </tr>\n",
       "    <tr>\n",
       "      <th>3</th>\n",
       "      <td>9.850000</td>\n",
       "      <td>1.140000</td>\n",
       "    </tr>\n",
       "    <tr>\n",
       "      <th>4</th>\n",
       "      <td>25.170000</td>\n",
       "      <td>2.190000</td>\n",
       "    </tr>\n",
       "    <tr>\n",
       "      <th>5</th>\n",
       "      <td>44.180000</td>\n",
       "      <td>3.500000</td>\n",
       "    </tr>\n",
       "    <tr>\n",
       "      <th>6</th>\n",
       "      <td>90.310000</td>\n",
       "      <td>5.810000</td>\n",
       "    </tr>\n",
       "    <tr>\n",
       "      <th>7</th>\n",
       "      <td>420.000000</td>\n",
       "      <td>17.840000</td>\n",
       "    </tr>\n",
       "  </tbody>\n",
       "</table>\n",
       "</div>"
      ],
      "text/plain": [
       "         huml        humw\n",
       "0  419.000000  419.000000\n",
       "1   64.650501    4.370573\n",
       "2   53.834549    2.854617\n",
       "3    9.850000    1.140000\n",
       "4   25.170000    2.190000\n",
       "5   44.180000    3.500000\n",
       "6   90.310000    5.810000\n",
       "7  420.000000   17.840000"
      ]
     },
     "execution_count": 12,
     "metadata": {},
     "output_type": "execute_result"
    }
   ],
   "source": [
    "birds[[\"huml\", \"humw\"]]"
   ]
  },
  {
   "cell_type": "markdown",
   "metadata": {},
   "source": [
    "### Step 14. Select the rows 3 to 7 and the columns 3 to 6"
   ]
  },
  {
   "cell_type": "code",
   "execution_count": 13,
   "metadata": {
    "scrolled": true
   },
   "outputs": [
    {
     "name": "stdout",
     "output_type": "stream",
     "text": [
      "    ulnal   ulnaw      feml    femw\n",
      "3   14.09   1.000   11.8300   0.930\n",
      "4   28.05   1.870   21.2975   1.715\n",
      "5   43.71   2.945   31.1300   2.520\n",
      "6   97.52   4.770   47.1200   4.135\n",
      "7  422.00  12.000  117.0700  11.640\n"
     ]
    }
   ],
   "source": [
    "print(birds.iloc[3:8][birds.columns[3:7]])"
   ]
  },
  {
   "cell_type": "markdown",
   "metadata": {},
   "source": [
    "### Step 15. Select rows where df.femw is greater than  5.2 or less than 10.5"
   ]
  },
  {
   "cell_type": "code",
   "execution_count": 14,
   "metadata": {
    "scrolled": false
   },
   "outputs": [
    {
     "data": {
      "text/html": [
       "<div>\n",
       "<style scoped>\n",
       "    .dataframe tbody tr th:only-of-type {\n",
       "        vertical-align: middle;\n",
       "    }\n",
       "\n",
       "    .dataframe tbody tr th {\n",
       "        vertical-align: top;\n",
       "    }\n",
       "\n",
       "    .dataframe thead th {\n",
       "        text-align: right;\n",
       "    }\n",
       "</style>\n",
       "<table border=\"1\" class=\"dataframe\">\n",
       "  <thead>\n",
       "    <tr style=\"text-align: right;\">\n",
       "      <th></th>\n",
       "      <th>Unnamed: 0</th>\n",
       "      <th>huml</th>\n",
       "      <th>humw</th>\n",
       "      <th>ulnal</th>\n",
       "      <th>ulnaw</th>\n",
       "      <th>feml</th>\n",
       "      <th>femw</th>\n",
       "      <th>tibl</th>\n",
       "      <th>tibw</th>\n",
       "      <th>tarl</th>\n",
       "      <th>tarw</th>\n",
       "      <th>len_type</th>\n",
       "      <th>Mean_Features</th>\n",
       "      <th>huml_and_humw</th>\n",
       "    </tr>\n",
       "  </thead>\n",
       "  <tbody>\n",
       "    <tr>\n",
       "      <th>0</th>\n",
       "      <td>count</td>\n",
       "      <td>419.000000</td>\n",
       "      <td>419.000000</td>\n",
       "      <td>417.000000</td>\n",
       "      <td>418.000000</td>\n",
       "      <td>418.000000</td>\n",
       "      <td>419.000000</td>\n",
       "      <td>418.000000</td>\n",
       "      <td>419.000000</td>\n",
       "      <td>419.000000</td>\n",
       "      <td>419.000000</td>\n",
       "      <td>420.000000</td>\n",
       "      <td>420.000000</td>\n",
       "      <td>419.000000</td>\n",
       "    </tr>\n",
       "    <tr>\n",
       "      <th>1</th>\n",
       "      <td>mean</td>\n",
       "      <td>64.650501</td>\n",
       "      <td>4.370573</td>\n",
       "      <td>69.115372</td>\n",
       "      <td>3.597249</td>\n",
       "      <td>36.872416</td>\n",
       "      <td>3.220883</td>\n",
       "      <td>64.662823</td>\n",
       "      <td>3.182339</td>\n",
       "      <td>39.229976</td>\n",
       "      <td>2.930024</td>\n",
       "      <td>1.580952</td>\n",
       "      <td>29.147160</td>\n",
       "      <td>69.021074</td>\n",
       "    </tr>\n",
       "    <tr>\n",
       "      <th>2</th>\n",
       "      <td>std</td>\n",
       "      <td>53.834549</td>\n",
       "      <td>2.854617</td>\n",
       "      <td>58.784775</td>\n",
       "      <td>2.186747</td>\n",
       "      <td>19.979082</td>\n",
       "      <td>2.023581</td>\n",
       "      <td>37.838145</td>\n",
       "      <td>2.080827</td>\n",
       "      <td>23.184313</td>\n",
       "      <td>2.185673</td>\n",
       "      <td>0.493992</td>\n",
       "      <td>18.996025</td>\n",
       "      <td>56.462551</td>\n",
       "    </tr>\n",
       "    <tr>\n",
       "      <th>3</th>\n",
       "      <td>min</td>\n",
       "      <td>9.850000</td>\n",
       "      <td>1.140000</td>\n",
       "      <td>14.090000</td>\n",
       "      <td>1.000000</td>\n",
       "      <td>11.830000</td>\n",
       "      <td>0.930000</td>\n",
       "      <td>5.500000</td>\n",
       "      <td>0.870000</td>\n",
       "      <td>7.770000</td>\n",
       "      <td>0.660000</td>\n",
       "      <td>1.000000</td>\n",
       "      <td>7.782000</td>\n",
       "      <td>12.730000</td>\n",
       "    </tr>\n",
       "    <tr>\n",
       "      <th>4</th>\n",
       "      <td>25%</td>\n",
       "      <td>25.170000</td>\n",
       "      <td>2.190000</td>\n",
       "      <td>28.050000</td>\n",
       "      <td>1.870000</td>\n",
       "      <td>21.297500</td>\n",
       "      <td>1.715000</td>\n",
       "      <td>36.417500</td>\n",
       "      <td>1.565000</td>\n",
       "      <td>23.035000</td>\n",
       "      <td>1.425000</td>\n",
       "      <td>1.000000</td>\n",
       "      <td>14.528500</td>\n",
       "      <td>27.200000</td>\n",
       "    </tr>\n",
       "    <tr>\n",
       "      <th>5</th>\n",
       "      <td>50%</td>\n",
       "      <td>44.180000</td>\n",
       "      <td>3.500000</td>\n",
       "      <td>43.710000</td>\n",
       "      <td>2.945000</td>\n",
       "      <td>31.130000</td>\n",
       "      <td>2.520000</td>\n",
       "      <td>52.120000</td>\n",
       "      <td>2.490000</td>\n",
       "      <td>31.740000</td>\n",
       "      <td>2.230000</td>\n",
       "      <td>2.000000</td>\n",
       "      <td>22.382500</td>\n",
       "      <td>48.060000</td>\n",
       "    </tr>\n",
       "    <tr>\n",
       "      <th>6</th>\n",
       "      <td>75%</td>\n",
       "      <td>90.310000</td>\n",
       "      <td>5.810000</td>\n",
       "      <td>97.520000</td>\n",
       "      <td>4.770000</td>\n",
       "      <td>47.120000</td>\n",
       "      <td>4.135000</td>\n",
       "      <td>82.870000</td>\n",
       "      <td>4.255000</td>\n",
       "      <td>50.250000</td>\n",
       "      <td>3.500000</td>\n",
       "      <td>2.000000</td>\n",
       "      <td>39.082250</td>\n",
       "      <td>96.190000</td>\n",
       "    </tr>\n",
       "    <tr>\n",
       "      <th>7</th>\n",
       "      <td>max</td>\n",
       "      <td>420.000000</td>\n",
       "      <td>17.840000</td>\n",
       "      <td>422.000000</td>\n",
       "      <td>12.000000</td>\n",
       "      <td>117.070000</td>\n",
       "      <td>11.640000</td>\n",
       "      <td>240.000000</td>\n",
       "      <td>11.030000</td>\n",
       "      <td>175.000000</td>\n",
       "      <td>14.090000</td>\n",
       "      <td>2.000000</td>\n",
       "      <td>137.740000</td>\n",
       "      <td>437.840000</td>\n",
       "    </tr>\n",
       "  </tbody>\n",
       "</table>\n",
       "</div>"
      ],
      "text/plain": [
       "  Unnamed: 0        huml        humw       ulnal       ulnaw        feml  \\\n",
       "0      count  419.000000  419.000000  417.000000  418.000000  418.000000   \n",
       "1       mean   64.650501    4.370573   69.115372    3.597249   36.872416   \n",
       "2        std   53.834549    2.854617   58.784775    2.186747   19.979082   \n",
       "3        min    9.850000    1.140000   14.090000    1.000000   11.830000   \n",
       "4        25%   25.170000    2.190000   28.050000    1.870000   21.297500   \n",
       "5        50%   44.180000    3.500000   43.710000    2.945000   31.130000   \n",
       "6        75%   90.310000    5.810000   97.520000    4.770000   47.120000   \n",
       "7        max  420.000000   17.840000  422.000000   12.000000  117.070000   \n",
       "\n",
       "         femw        tibl        tibw        tarl        tarw    len_type  \\\n",
       "0  419.000000  418.000000  419.000000  419.000000  419.000000  420.000000   \n",
       "1    3.220883   64.662823    3.182339   39.229976    2.930024    1.580952   \n",
       "2    2.023581   37.838145    2.080827   23.184313    2.185673    0.493992   \n",
       "3    0.930000    5.500000    0.870000    7.770000    0.660000    1.000000   \n",
       "4    1.715000   36.417500    1.565000   23.035000    1.425000    1.000000   \n",
       "5    2.520000   52.120000    2.490000   31.740000    2.230000    2.000000   \n",
       "6    4.135000   82.870000    4.255000   50.250000    3.500000    2.000000   \n",
       "7   11.640000  240.000000   11.030000  175.000000   14.090000    2.000000   \n",
       "\n",
       "   Mean_Features  huml_and_humw  \n",
       "0     420.000000     419.000000  \n",
       "1      29.147160      69.021074  \n",
       "2      18.996025      56.462551  \n",
       "3       7.782000      12.730000  \n",
       "4      14.528500      27.200000  \n",
       "5      22.382500      48.060000  \n",
       "6      39.082250      96.190000  \n",
       "7     137.740000     437.840000  "
      ]
     },
     "execution_count": 14,
     "metadata": {},
     "output_type": "execute_result"
    }
   ],
   "source": [
    "birds[(birds[\"femw\"] > 5.2) | (birds[\"femw\"] < 10.5)]"
   ]
  },
  {
   "cell_type": "markdown",
   "metadata": {},
   "source": [
    "### Step 16. Select the third cell down in the column named tarl"
   ]
  },
  {
   "cell_type": "code",
   "execution_count": 15,
   "metadata": {},
   "outputs": [
    {
     "name": "stdout",
     "output_type": "stream",
     "text": [
      "23.184313430288995\n"
     ]
    }
   ],
   "source": [
    "print(birds[\"tarl\"][2])"
   ]
  },
  {
   "cell_type": "markdown",
   "metadata": {},
   "source": [
    "### Step 17. Compute how many values are non-missing for each feature  over the entire record."
   ]
  },
  {
   "cell_type": "code",
   "execution_count": 16,
   "metadata": {},
   "outputs": [
    {
     "name": "stdout",
     "output_type": "stream",
     "text": [
      "Unnamed: 0       8\n",
      "huml             8\n",
      "humw             8\n",
      "ulnal            8\n",
      "ulnaw            8\n",
      "feml             8\n",
      "femw             8\n",
      "tibl             8\n",
      "tibw             8\n",
      "tarl             8\n",
      "tarw             8\n",
      "len_type         8\n",
      "Mean_Features    8\n",
      "huml_and_humw    8\n",
      "dtype: int64\n"
     ]
    }
   ],
   "source": [
    "print(birds.notnull().sum())"
   ]
  },
  {
   "cell_type": "markdown",
   "metadata": {},
   "source": [
    "### Step18. Calculate Mean and Median of \"tibl\" and \"tibw\" columns"
   ]
  },
  {
   "cell_type": "code",
   "execution_count": 17,
   "metadata": {},
   "outputs": [
    {
     "name": "stdout",
     "output_type": "stream",
     "text": [
      "Mean\n",
      "tibl    117.176058\n",
      "tibw     55.559146\n",
      "dtype: float64\n",
      "Median\n",
      "tibl    58.391411\n",
      "tibw     2.836169\n",
      "dtype: float64\n"
     ]
    }
   ],
   "source": [
    "print(\"Mean\")\n",
    "print(birds[[\"tibl\", \"tibw\"]].mean())\n",
    "print(\"Median\")\n",
    "print(birds[[\"tibl\", \"tibw\"]].median())"
   ]
  },
  {
   "cell_type": "markdown",
   "metadata": {},
   "source": [
    "### Step19. Discover what is the mean \"ulnaw\" per every bird category  (use Groupby)"
   ]
  },
  {
   "cell_type": "code",
   "execution_count": 26,
   "metadata": {},
   "outputs": [
    {
     "name": "stdout",
     "output_type": "stream",
     "text": [
      "                  huml        humw       ulnal        feml        femw  \\\n",
      "ulnaw                                                                    \n",
      "1.000000      9.850000    1.140000   14.090000   11.830000    0.930000   \n",
      "1.870000     25.170000    2.190000   28.050000   21.297500    1.715000   \n",
      "2.186747     53.834549    2.854617   58.784775   19.979082    2.023581   \n",
      "2.945000     44.180000    3.500000   43.710000   31.130000    2.520000   \n",
      "3.597249     64.650501    4.370573   69.115372   36.872416    3.220883   \n",
      "4.770000     90.310000    5.810000   97.520000   47.120000    4.135000   \n",
      "12.000000   420.000000   17.840000  422.000000  117.070000   11.640000   \n",
      "418.000000  419.000000  419.000000  417.000000  418.000000  419.000000   \n",
      "\n",
      "                  tibl        tibw        tarl        tarw    len_type  \\\n",
      "ulnaw                                                                    \n",
      "1.000000      5.500000    0.870000    7.770000    0.660000    1.000000   \n",
      "1.870000     36.417500    1.565000   23.035000    1.425000    1.000000   \n",
      "2.186747     37.838145    2.080827   23.184313    2.185673    0.493992   \n",
      "2.945000     52.120000    2.490000   31.740000    2.230000    2.000000   \n",
      "3.597249     64.662823    3.182339   39.229976    2.930024    1.580952   \n",
      "4.770000     82.870000    4.255000   50.250000    3.500000    2.000000   \n",
      "12.000000   240.000000   11.030000  175.000000   14.090000    2.000000   \n",
      "418.000000  418.000000  419.000000  419.000000  419.000000  420.000000   \n",
      "\n",
      "            Mean_Features  huml_and_humw  \n",
      "ulnaw                                     \n",
      "1.000000         7.782000      12.730000  \n",
      "1.870000        14.528500      27.200000  \n",
      "2.186747        18.996025      56.462551  \n",
      "2.945000        22.382500      48.060000  \n",
      "3.597249        29.147160      69.021074  \n",
      "4.770000        39.082250      96.190000  \n",
      "12.000000      137.740000     437.840000  \n",
      "418.000000     420.000000     419.000000  \n"
     ]
    }
   ],
   "source": [
    "print(birds.groupby('ulnaw').mean())"
   ]
  },
  {
   "cell_type": "markdown",
   "metadata": {},
   "source": [
    "### Step20. Plot graph between all features refuse \"type\" and \"id\"  columns "
   ]
  },
  {
   "cell_type": "code",
   "execution_count": 33,
   "metadata": {},
   "outputs": [
    {
     "data": {
      "text/plain": [
       "<matplotlib.axes._subplots.AxesSubplot at 0x20e003b6108>"
      ]
     },
     "execution_count": 33,
     "metadata": {},
     "output_type": "execute_result"
    },
    {
     "data": {
      "image/png": "[encoded data removed]",
      "text/plain": [
       "<Figure size 432x288 with 1 Axes>"
      ]
     },
     "metadata": {
      "needs_background": "light"
     },
     "output_type": "display_data"
    }
   ],
   "source": [
    "birds[['huml', 'humw', 'ulnal', 'ulnaw', 'feml', 'femw', 'tibl', 'tibw', 'tarl', 'tarw', 'Mean_Features', 'huml_and_humw']].plot(kind = 'hist')"
   ]
  },
  {
   "cell_type": "markdown",
   "metadata": {},
   "source": []
  },
  {
   "cell_type": "code",
   "execution_count": null,
   "metadata": {},
   "outputs": [],
   "source": []
  }
 ],
 "metadata": {
  "anaconda-cloud": {},
  "kernelspec": {
   "display_name": "Python 3",
   "language": "python",
   "name": "python3"
  },
  "language_info": {
   "codemirror_mode": {
    "name": "ipython",
    "version": 3
   },
   "file_extension": ".py",
   "mimetype": "text/x-python",
   "name": "python",
   "nbconvert_exporter": "python",
   "pygments_lexer": "ipython3",
   "version": "3.7.6"
  }
 },
 "nbformat": 4,
 "nbformat_minor": 1
}
