{
 "cells": [
  {
   "cell_type": "code",
   "execution_count": 2,
   "metadata": {},
   "outputs": [],
   "source": [
    "import pyttsx3\n",
    "import emoji\n",
    "import camelcase"
   ]
  },
  {
   "cell_type": "code",
   "execution_count": 4,
   "metadata": {},
   "outputs": [],
   "source": [
    "def sentence(s):\n",
    "    if (s == camelcase.CamelCase().hump(s)):\n",
    "        return emoji.emojize(\"The sentence is in camel case :thumbsup:\", use_aliases = True)\n",
    "    else:\n",
    "        spk = pyttsx3.init()\n",
    "        spk.say(\"The sentence is not in camel case\")\n",
    "        spk.runAndWait()\n",
    "        return \"The sentence in camel case:\", camelcase.CamelCase().hump(s)"
   ]
  },
  {
   "cell_type": "code",
   "execution_count": 5,
   "metadata": {},
   "outputs": [
    {
     "name": "stdout",
     "output_type": "stream",
     "text": [
      "Enter a sentence srm university\n",
      "('The sentence in camel case:', 'Srm University')\n"
     ]
    }
   ],
   "source": [
    "s = input(\"Enter a sentence \")\n",
    "h = sentence(s)\n",
    "print(h)"
   ]
  },
  {
   "cell_type": "code",
   "execution_count": 6,
   "metadata": {},
   "outputs": [
    {
     "name": "stdout",
     "output_type": "stream",
     "text": [
      "Enter a sentence Hello Chandler\n",
      "The sentence is in camel case 👍\n"
     ]
    }
   ],
   "source": [
    "s = input(\"Enter a sentence \")\n",
    "h = sentence(s)\n",
    "print(h)"
   ]
  },
  {
   "cell_type": "code",
   "execution_count": null,
   "metadata": {},
   "outputs": [],
   "source": []
  }
 ],
 "metadata": {
  "kernelspec": {
   "display_name": "Python 3",
   "language": "python",
   "name": "python3"
  },
  "language_info": {
   "codemirror_mode": {
    "name": "ipython",
    "version": 3
   },
   "file_extension": ".py",
   "mimetype": "text/x-python",
   "name": "python",
   "nbconvert_exporter": "python",
   "pygments_lexer": "ipython3",
   "version": "3.7.6"
  }
 },
 "nbformat": 4,
 "nbformat_minor": 4
}
