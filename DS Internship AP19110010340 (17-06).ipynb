{
 "cells": [
  {
   "cell_type": "markdown",
   "metadata": {
    "scrolled": true
   },
   "source": [
    "# Anjana Nallanagula\n",
    "# AP19110010340\n",
    "# SRM University"
   ]
  },
  {
   "cell_type": "markdown",
   "metadata": {},
   "source": [
    "# Task \n",
    "* Generate a 3 digit OTP from 2 different Classes Mail class and Phone class return 6 digit OTP from both Base classes"
   ]
  },
  {
   "cell_type": "code",
   "execution_count": 2,
   "metadata": {},
   "outputs": [
    {
     "name": "stdout",
     "output_type": "stream",
     "text": [
      "OTP generation in the Mail class\n",
      "OTP generation in the Phone class\n",
      "OTP generation from both classes\n",
      "402904\n"
     ]
    }
   ],
   "source": [
    "import random\n",
    "class Mail():\n",
    "    s1 = \"\"\n",
    "    def __init__(self):\n",
    "        print(\"OTP generation in the Mail class\")\n",
    "    def otp_1(self):\n",
    "        for i in range(3):\n",
    "            self.s1 = self.s1 + str(random.randint(0, 9))\n",
    "        return self.s1\n",
    "class Phone():\n",
    "    s2 = \"\"\n",
    "    def __init__(self):\n",
    "        print(\"OTP generation in the Phone class\")\n",
    "    def otp_2(self):\n",
    "        for i in range(3):\n",
    "            self.s2 = self.s2 + str(random.randint(0, 9))\n",
    "        return self.s2\n",
    "class Otp(Mail, Phone):\n",
    "    s = \"\"\n",
    "    def __init__(self):\n",
    "        Mail.__init__(self)\n",
    "        Phone.__init__(self)\n",
    "        print(\"OTP generation from both classes\")\n",
    "    def otp(self):\n",
    "        self.s = Mail.otp_1(self) + Phone.otp_2(self)\n",
    "        return self.s\n",
    "obj = Otp()\n",
    "print(obj.otp())"
   ]
  }
 ],
 "metadata": {
  "kernelspec": {
   "display_name": "Python 3",
   "language": "python",
   "name": "python3"
  },
  "language_info": {
   "codemirror_mode": {
    "name": "ipython",
    "version": 3
   },
   "file_extension": ".py",
   "mimetype": "text/x-python",
   "name": "python",
   "nbconvert_exporter": "python",
   "pygments_lexer": "ipython3",
   "version": "3.7.6"
  }
 },
 "nbformat": 4,
 "nbformat_minor": 4
}
