{
 "cells": [
  {
   "cell_type": "markdown",
   "metadata": {},
   "source": [
    "# Anjana Nallanagula\n",
    "# AP19110010340\n",
    "# SRM University AP"
   ]
  },
  {
   "cell_type": "markdown",
   "metadata": {},
   "source": [
    "# 1. Write a program to check whether the user eligible for vote or not"
   ]
  },
  {
   "cell_type": "code",
   "execution_count": 1,
   "metadata": {},
   "outputs": [
    {
     "name": "stdout",
     "output_type": "stream",
     "text": [
      "Enter your name chandler\n",
      "Enter your age 24\n",
      "chandler of 24 years is eligible to vote\n"
     ]
    }
   ],
   "source": [
    "name = input(\"Enter your name \")\n",
    "age = int(input(\"Enter your age \"))\n",
    "if (age >= 18):\n",
    "    print(f\"{name} of {age} years is eligible to vote\")\n",
    "else:\n",
    "    print(f\"{name} of {age} years is not eligible to vote\")"
   ]
  },
  {
   "cell_type": "markdown",
   "metadata": {},
   "source": [
    "# 2. Check the given number is positive or negative"
   ]
  },
  {
   "cell_type": "code",
   "execution_count": 2,
   "metadata": {},
   "outputs": [
    {
     "name": "stdout",
     "output_type": "stream",
     "text": [
      "Enter a number 4\n",
      "4 is positive\n"
     ]
    }
   ],
   "source": [
    "n = int(input(\"Enter a number \"))\n",
    "if (n >= 0):\n",
    "    print(f\"{n} is positive\")\n",
    "else:\n",
    "    print(f\"{n} is negative\")"
   ]
  },
  {
   "cell_type": "markdown",
   "metadata": {},
   "source": [
    "# 3. check the given number is even or odd if it's even check which is divisible by 4 or not"
   ]
  },
  {
   "cell_type": "code",
   "execution_count": 3,
   "metadata": {},
   "outputs": [
    {
     "name": "stdout",
     "output_type": "stream",
     "text": [
      "Enter a number 4\n",
      "4 is even\n",
      "4 is divisible by 4\n"
     ]
    }
   ],
   "source": [
    "n = int(input(\"Enter a number \"))\n",
    "if (n % 2 == 0):\n",
    "    print(f\"{n} is even\")\n",
    "    if (n % 4 == 0):\n",
    "        print(f\"{n} is divisible by 4\")\n",
    "    else:\n",
    "        print(f\"{n} is not divisible by 4\")\n",
    "else:\n",
    "    print(f\"{n} is odd\")"
   ]
  },
  {
   "cell_type": "markdown",
   "metadata": {},
   "source": [
    "# 4. write a program to print student grade based on persentage like Distinction, pass or fail"
   ]
  },
  {
   "cell_type": "code",
   "execution_count": 4,
   "metadata": {},
   "outputs": [
    {
     "name": "stdout",
     "output_type": "stream",
     "text": [
      "Enter your english marks 94\n",
      "Enter your telugu marks 95\n",
      "Enter your maths marks 92\n",
      "Enter your science marks 90\n",
      "Enter your social marks 93\n",
      "Distinction\n"
     ]
    }
   ],
   "source": [
    "english = int(input(\"Enter your english marks \"))\n",
    "telugu = int(input(\"Enter your telugu marks \"))\n",
    "maths = int(input(\"Enter your maths marks \"))\n",
    "science = int(input(\"Enter your science marks \"))\n",
    "social = int(input(\"Enter your social marks \"))\n",
    "grade = (english + telugu + maths + science + social) / 5\n",
    "if (grade >= 90):\n",
    "    print(\"Distinction\")\n",
    "elif ((grade >= 50) and (grade < 90)):\n",
    "    print(\"Pass\")\n",
    "else:\n",
    "    print(\"Fail\")"
   ]
  },
  {
   "cell_type": "markdown",
   "metadata": {},
   "source": [
    "# 5. Check whether a year is a leap year or not"
   ]
  },
  {
   "cell_type": "code",
   "execution_count": 5,
   "metadata": {},
   "outputs": [
    {
     "name": "stdout",
     "output_type": "stream",
     "text": [
      "Enter a year 2011\n",
      "2011 is not a leap year\n"
     ]
    }
   ],
   "source": [
    "year = int(input(\"Enter a year \"))\n",
    "if (year % 4 == 0):\n",
    "    if (year % 100 == 0):\n",
    "        if (year % 400 == 0):\n",
    "            print(f\"{year} is a leap year\")\n",
    "        else:\n",
    "            print(f\"{year} is not a leap year\")\n",
    "    else:\n",
    "        print(f\"{year} is a leap year\")\n",
    "else:\n",
    "    print(f\"{year} is not a leap year\")"
   ]
  }
 ],
 "metadata": {
  "kernelspec": {
   "display_name": "Python 3",
   "language": "python",
   "name": "python3"
  },
  "language_info": {
   "codemirror_mode": {
    "name": "ipython",
    "version": 3
   },
   "file_extension": ".py",
   "mimetype": "text/x-python",
   "name": "python",
   "nbconvert_exporter": "python",
   "pygments_lexer": "ipython3",
   "version": "3.7.6"
  }
 },
 "nbformat": 4,
 "nbformat_minor": 4
}
