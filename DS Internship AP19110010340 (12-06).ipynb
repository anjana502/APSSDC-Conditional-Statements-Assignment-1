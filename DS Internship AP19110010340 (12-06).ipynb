{
 "cells": [
  {
   "cell_type": "markdown",
   "metadata": {},
   "source": [
    "# Anjana Nallanagula\n",
    "# AP19110010340\n",
    "# SRM University"
   ]
  },
  {
   "cell_type": "markdown",
   "metadata": {},
   "source": [
    "# Task 1\n",
    "* Write a python script to print a dictionary where the keys are numbers between 1 and 15 (both included) and the values are square of keys"
   ]
  },
  {
   "cell_type": "code",
   "execution_count": 1,
   "metadata": {},
   "outputs": [
    {
     "name": "stdout",
     "output_type": "stream",
     "text": [
      "{1: 1, 2: 4, 3: 9, 4: 16, 5: 25, 6: 36, 7: 49, 8: 64, 9: 81, 10: 100, 11: 121, 12: 144, 13: 169, 14: 196, 15: 225}\n"
     ]
    }
   ],
   "source": [
    "d = {}\n",
    "for i in range(1, 16):\n",
    "  d[i] = i**2\n",
    "print(d)"
   ]
  },
  {
   "cell_type": "markdown",
   "metadata": {},
   "source": [
    "# Task 2\n",
    "* Write a python program to map two lists into a dictionary"
   ]
  },
  {
   "cell_type": "code",
   "execution_count": 3,
   "metadata": {},
   "outputs": [
    {
     "name": "stdout",
     "output_type": "stream",
     "text": [
      "Enter the size 4\n",
      "1\n",
      "2\n",
      "3\n",
      "4\n",
      "Enter the size 4\n",
      "chandler\n",
      "jake\n",
      "ryan\n",
      "lenord\n",
      "{'1': 'chandler', '2': 'jake', '3': 'ryan', '4': 'lenord'}\n"
     ]
    }
   ],
   "source": [
    "ls1 = []\n",
    "ls2 = []\n",
    "\n",
    "n = int(input(\"Enter the size \"))\n",
    "for i in range(n):\n",
    "    a = input()\n",
    "    ls1.append(a)\n",
    "m = int(input(\"Enter the size \"))\n",
    "for i in range(m):\n",
    "    b = input()\n",
    "    ls2.append(b)\n",
    "print(dict(zip(ls1, ls2)))"
   ]
  },
  {
   "cell_type": "markdown",
   "metadata": {},
   "source": [
    "# Task 3\n",
    "* Write a python program to sort a list alphabetically in a dictionary"
   ]
  },
  {
   "cell_type": "code",
   "execution_count": 4,
   "metadata": {},
   "outputs": [
    {
     "name": "stdout",
     "output_type": "stream",
     "text": [
      "Enter the size of the dictionary 3\n",
      "Enter the key n1\n",
      "Enter the size of the list 3\n",
      "Enter list item values\n",
      "2\n",
      "3\n",
      "1\n",
      "Enter the key n2\n",
      "Enter the size of the list 3\n",
      "Enter list item values\n",
      "5\n",
      "1\n",
      "2\n",
      "Enter the key n3\n",
      "Enter the size of the list 3\n",
      "Enter list item values\n",
      "3\n",
      "2\n",
      "4\n",
      "{'n1': [1, 2, 3], 'n2': [1, 2, 5], 'n3': [2, 3, 4]}\n"
     ]
    }
   ],
   "source": [
    "d = {}\n",
    "n = int(input(\"Enter the size of the dictionary \"))\n",
    "for i in range(n):\n",
    "  key = input(\"Enter the key \")\n",
    "  m = int(input(\"Enter the size of the list \"))\n",
    "  ls = []\n",
    "  print(\"Enter list item values\")\n",
    "  for j in range(m):\n",
    "    j = int(input())\n",
    "    ls.append(j)\n",
    "  d[key] = ls\n",
    "\n",
    "for a, b in d.items():\n",
    "  b.sort()\n",
    "print(d)"
   ]
  }
 ],
 "metadata": {
  "kernelspec": {
   "display_name": "Python 3",
   "language": "python",
   "name": "python3"
  },
  "language_info": {
   "codemirror_mode": {
    "name": "ipython",
    "version": 3
   },
   "file_extension": ".py",
   "mimetype": "text/x-python",
   "name": "python",
   "nbconvert_exporter": "python",
   "pygments_lexer": "ipython3",
   "version": "3.7.6"
  }
 },
 "nbformat": 4,
 "nbformat_minor": 4
}
