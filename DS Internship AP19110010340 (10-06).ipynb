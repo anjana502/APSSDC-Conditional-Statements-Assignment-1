{
 "cells": [
  {
   "cell_type": "markdown",
   "metadata": {},
   "source": [
    "# Anjana Nallanagula\n",
    "# AP19110010340 \n",
    "# SRM University AP"
   ]
  },
  {
   "cell_type": "markdown",
   "metadata": {},
   "source": [
    "# TASK :\n",
    "* input from the user\n",
    "* check the length of the string even or odd\n",
    "* If it is string length is odd access one middle character\n",
    "* If that string length is even access two middle characters"
   ]
  },
  {
   "cell_type": "code",
   "execution_count": 5,
   "metadata": {},
   "outputs": [
    {
     "name": "stdout",
     "output_type": "stream",
     "text": [
      "Enter a string chandler\n",
      "nd\n"
     ]
    }
   ],
   "source": [
    "s = input(\"Enter a string \")\n",
    "\n",
    "if (len(s) % 2 == 0):\n",
    "    print(s[len(s)//2 - 1: len(s)//2 + 1])\n",
    "else:\n",
    "    print(s[len(s)//2])"
   ]
  },
  {
   "cell_type": "code",
   "execution_count": 4,
   "metadata": {},
   "outputs": [
    {
     "name": "stdout",
     "output_type": "stream",
     "text": [
      "Enter a string peter\n",
      "t\n"
     ]
    }
   ],
   "source": [
    "s = input(\"Enter a string \")\n",
    "\n",
    "if (len(s) % 2 == 0):\n",
    "    print(s[len(s)//2 - 1: len(s)//2 + 1])\n",
    "else:\n",
    "    print(s[len(s)//2])"
   ]
  }
 ],
 "metadata": {
  "kernelspec": {
   "display_name": "Python 3",
   "language": "python",
   "name": "python3"
  },
  "language_info": {
   "codemirror_mode": {
    "name": "ipython",
    "version": 3
   },
   "file_extension": ".py",
   "mimetype": "text/x-python",
   "name": "python",
   "nbconvert_exporter": "python",
   "pygments_lexer": "ipython3",
   "version": "3.7.6"
  }
 },
 "nbformat": 4,
 "nbformat_minor": 4
}
